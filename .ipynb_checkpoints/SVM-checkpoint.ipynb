{
 "cells": [
  {
   "cell_type": "code",
   "execution_count": null,
   "metadata": {},
   "outputs": [],
   "source": [
    "import pandas as pd\n",
    "import numpy as np\n",
    "from sklearn.model_selection import train_test_split\n",
    "import re\n",
    "import unidecode\n",
    "import nltk\n",
    "from nltk.stem import PorterStemmer\n",
    "from nltk.corpus import stopwords\n",
    "from nltk.tokenize import word_tokenize\n",
    "\n",
    "ps = PorterStemmer()\n",
    "stop_words = set(stopwords.words('english'))\n",
    "\n",
    "\n",
    "# Stems words to their root words and removes all characters that are not alphabets\n",
    "def stem_str(str):\n",
    "    ret_str = \"\"\n",
    "    for w in word_tokenize(str.lower()):\n",
    "        if w not in stop_words and w.isalpha():\n",
    "            ret_str = ret_str + \" \" + ps.stem(w)\n",
    "    return ret_str.strip()\n",
    "\n",
    "# Gets the count of most frequent words give a dataframe\n",
    "def word_freq(df):\n",
    "    word_frequency = {}\n",
    "    for index,row in df.iterrows():\n",
    "        for w in word_tokenize(row['stemmed_sms']):\n",
    "            if w not in word_frequency:\n",
    "                word_frequency[w] = 1\n",
    "            else:\n",
    "                word_frequency[w] += 1\n",
    "    return word_frequency\n",
    "\n",
    "\n",
    "#reading in the data and renaming columns    \n",
    "data = pd.read_csv('./spam.csv',encoding = \"ISO-8859-1\")\n",
    "data.columns = ['category', 'text']\n",
    "\n",
    "#stem data\n",
    "data['stemmed_sms'] = data.loc[:,'text'].apply(lambda x: stem_str(str(x)))\n",
    "#print(data)\n",
    "\n",
    "#split data into training and test data\n",
    "#trainData, test = train_test_split(data, train_size=0.20)\n",
    "trainData, test = train_test_split(data, test_size=0.80)\n",
    "\n",
    "unique_words = word_freq(data)\n"
   ]
  },
  {
   "cell_type": "code",
   "execution_count": 2,
   "metadata": {},
   "outputs": [
    {
     "name": "stdout",
     "output_type": "stream",
     "text": [
      "(300, 168, 308)\n",
      "done\n",
      "0.809090909091\n",
      "[  1.73786535e-01   1.73314361e-01   2.15594337e-02   6.23442420e-02\n",
      "   1.99973842e-03   6.75110593e-05   2.75105755e-02   7.05904418e-04\n",
      "   1.15749942e-01   5.30510922e-04   4.12903834e-03   1.80843493e-03\n",
      "   7.21155919e-05   5.09732704e-06   1.26555636e-03   2.05868859e-01\n",
      "   8.37751080e-03   1.41117852e-03   1.91527298e-01   7.96615650e-03]\n",
      "0.05\n"
     ]
    }
   ],
   "source": []
  }
 ],
 "metadata": {
  "_draft": {
   "nbviewer_url": "https://gist.github.com/aff9e6e8ebaf9e733ae5b58405965b6b"
  },
  "gist": {
   "data": {
    "description": "projects/SYDE-522/Tutorials/Assignments/Assignment 1/Tutorial Assignment 1.ipynb",
    "public": false
   },
   "id": "aff9e6e8ebaf9e733ae5b58405965b6b"
  },
  "kernelspec": {
   "display_name": "Python 3",
   "language": "python",
   "name": "python3"
  },
  "language_info": {
   "codemirror_mode": {
    "name": "ipython",
    "version": 3
   },
   "file_extension": ".py",
   "mimetype": "text/x-python",
   "name": "python",
   "nbconvert_exporter": "python",
   "pygments_lexer": "ipython3",
   "version": "3.6.3"
  },
  "latex_envs": {
   "LaTeX_envs_menu_present": true,
   "autocomplete": true,
   "bibliofile": "biblio.bib",
   "cite_by": "apalike",
   "current_citInitial": 1,
   "eqLabelWithNumbers": true,
   "eqNumInitial": 1,
   "hotkeys": {
    "equation": "Ctrl-E",
    "itemize": "Ctrl-I"
   },
   "labels_anchors": false,
   "latex_user_defs": false,
   "report_style_numbering": false,
   "user_envs_cfg": false
  },
  "varInspector": {
   "cols": {
    "lenName": 16,
    "lenType": 16,
    "lenVar": 40
   },
   "kernels_config": {
    "python": {
     "delete_cmd_postfix": "",
     "delete_cmd_prefix": "del ",
     "library": "var_list.py",
     "varRefreshCmd": "print(var_dic_list())"
    },
    "r": {
     "delete_cmd_postfix": ") ",
     "delete_cmd_prefix": "rm(",
     "library": "var_list.r",
     "varRefreshCmd": "cat(var_dic_list()) "
    }
   },
   "types_to_exclude": [
    "module",
    "function",
    "builtin_function_or_method",
    "instance",
    "_Feature"
   ],
   "window_display": false
  }
 },
 "nbformat": 4,
 "nbformat_minor": 2
}
