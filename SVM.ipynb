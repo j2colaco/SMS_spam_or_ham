{
 "cells": [
  {
   "cell_type": "code",
   "execution_count": 137,
   "metadata": {},
   "outputs": [
    {
     "name": "stdout",
     "output_type": "stream",
     "text": [
      "accuracy:\n",
      "0.973094170404\n",
      "precision:\n",
      "1.0\n"
     ]
    }
   ],
   "source": [
    "import pandas as pd\n",
    "import numpy as np\n",
    "import nltk\n",
    "from sklearn.model_selection import train_test_split\n",
    "from sklearn.feature_extraction.text import CountVectorizer\n",
    "from sklearn.feature_extraction.text import TfidfVectorizer\n",
    "from sklearn.metrics import accuracy_score\n",
    "from sklearn.metrics import precision_score\n",
    "from nltk.corpus import stopwords\n",
    "from nltk.stem import PorterStemmer\n",
    "from nltk.tokenize import word_tokenize\n",
    "from sklearn.svm import SVC, NuSVC, LinearSVC\n",
    "from sklearn import tree\n",
    "\n",
    "\n",
    "ps = PorterStemmer()\n",
    "stop_words = set(stopwords.words('english'))\n",
    "\n",
    "\n",
    "# Stems words to their root words and removes all characters that are not alphabets\n",
    "def stem_str(str):\n",
    "    ret_str = \"\"\n",
    "    for w in word_tokenize(str.lower()):\n",
    "        if w not in stop_words and w.isalpha():\n",
    "            ret_str = ret_str + \" \" + ps.stem(w)\n",
    "    return ret_str.strip()\n",
    "\n",
    "# Gets the count of most frequent words give a dataframe\n",
    "def word_freq(df):\n",
    "    word_frequency = {}\n",
    "    for index,row in df.iterrows():\n",
    "        for w in word_tokenize(row['stemmed_sms']):\n",
    "            if w not in word_frequency:\n",
    "                word_frequency[w] = 1\n",
    "            else:\n",
    "                word_frequency[w] += 1\n",
    "    return word_frequency\n",
    "\n",
    "\n",
    "#reading in the data and renaming columns    \n",
    "data = pd.read_csv('./spam.csv',encoding = \"ISO-8859-1\")\n",
    "data.columns = ['category', 'text']\n",
    "\n",
    "#replace ham and spam with 0 and 1\n",
    "data['category'] = data['category'].replace(['ham','spam'],[0,1])\n",
    "\n",
    "y = data['category'].as_matrix()\n",
    "X_text = data['text'].as_matrix() \n",
    "data['stemmed_sms'] = data.loc[:,'text'].apply(lambda x: stem_str(str(x)))\n",
    "X_text_stem = data['stemmed_sms'].as_matrix() \n",
    "\n",
    "\n",
    "#CountVectorizer alone better accuracy than with TfidfVectorizer\n",
    "sw = stopwords.words(\"english\")\n",
    "cv = CountVectorizer(stop_words =sw)\n",
    "X_stem = cv.fit_transform(X_text).toarray()\n",
    "X = cv.fit_transform(X_text_stem).toarray()\n",
    "\n",
    "#print(len(tcv[0,:]))\n",
    "# print(tcv.shape)\n",
    "# print(y.shape)\n",
    "\n",
    "\n",
    "# vectorizer = TfidfVectorizer(stop_words=sw,lowercase=True)\n",
    "# X = vectorizer.fit_transform(X_text).toarray()\n",
    "# print(X.shape)\n",
    "# print(y.shape)\n",
    "\n",
    "\n",
    "#when removed random_state=42, accuracy improved to 0.952466367713 from 0.94849023 \n",
    "X_train, X_test, y_train, y_test = train_test_split(X, y, test_size=0.2)\n",
    "# print(X_train.shape)\n",
    "# print(y_train.shape)\n",
    "# print(X_test.shape)\n",
    "# print(y_test.shape)\n",
    "\n",
    "\n",
    "#train SVM\n",
    "clf = SVC(gamma=0.1,C=1,kernel='rbf')\n",
    "clf.fit(X_train,y_train)\n",
    "pred = clf.predict(X_test)\n",
    "print('accuracy:')\n",
    "print(accuracy_score(y_test,pred))\n",
    "print('precision:')\n",
    "print(precision_score(y_test,pred))\n",
    "\n",
    "\n",
    "#train tree\n",
    "# clf = tree.DecisionTreeClassifier()\n",
    "# clf.fit(X_train,y_train)\n",
    "# predtree = clf.predict(X_test)\n",
    "# print(accuracy_score(y_test,predtree))\n",
    "\n",
    "\n",
    "#stem data\n",
    "# data['stemmed_sms'] = data.loc[:,'text'].apply(lambda x: stem_str(str(x)))\n",
    "\n",
    "#split data into training and test data\n",
    "#trainData, test = train_test_split(data, train_size=0.20)\n",
    "#trainData, test = train_test_split(data, test_size=0.80)\n",
    "# print([np.shape(trainData), np.shape(test)])\n",
    "\n",
    "# train_unique_words = word_freq(trainData)\n",
    "# print(unique_words)\n",
    "\n",
    "#train SVM\n",
    "#trainData = trainData.to_dict()\n",
    "#model = LinearSVC()\n",
    "#model.fit(train_unique_words, Y)\n",
    "\n",
    "#test SVM\n",
    "# result = model.predict(test['text'])\n",
    "# print (confusion_matrix(test['category'],result))\n",
    "\n",
    "\n"
   ]
  }
 ],
 "metadata": {
  "_draft": {
   "nbviewer_url": "https://gist.github.com/aff9e6e8ebaf9e733ae5b58405965b6b"
  },
  "gist": {
   "data": {
    "description": "projects/SYDE-522/Tutorials/Assignments/Assignment 1/Tutorial Assignment 1.ipynb",
    "public": false
   },
   "id": "aff9e6e8ebaf9e733ae5b58405965b6b"
  },
  "kernelspec": {
   "display_name": "Python 3",
   "language": "python",
   "name": "python3"
  },
  "language_info": {
   "codemirror_mode": {
    "name": "ipython",
    "version": 3
   },
   "file_extension": ".py",
   "mimetype": "text/x-python",
   "name": "python",
   "nbconvert_exporter": "python",
   "pygments_lexer": "ipython3",
   "version": "3.6.3"
  },
  "latex_envs": {
   "LaTeX_envs_menu_present": true,
   "autocomplete": true,
   "bibliofile": "biblio.bib",
   "cite_by": "apalike",
   "current_citInitial": 1,
   "eqLabelWithNumbers": true,
   "eqNumInitial": 1,
   "hotkeys": {
    "equation": "Ctrl-E",
    "itemize": "Ctrl-I"
   },
   "labels_anchors": false,
   "latex_user_defs": false,
   "report_style_numbering": false,
   "user_envs_cfg": false
  },
  "varInspector": {
   "cols": {
    "lenName": 16,
    "lenType": 16,
    "lenVar": 40
   },
   "kernels_config": {
    "python": {
     "delete_cmd_postfix": "",
     "delete_cmd_prefix": "del ",
     "library": "var_list.py",
     "varRefreshCmd": "print(var_dic_list())"
    },
    "r": {
     "delete_cmd_postfix": ") ",
     "delete_cmd_prefix": "rm(",
     "library": "var_list.r",
     "varRefreshCmd": "cat(var_dic_list()) "
    }
   },
   "types_to_exclude": [
    "module",
    "function",
    "builtin_function_or_method",
    "instance",
    "_Feature"
   ],
   "window_display": false
  }
 },
 "nbformat": 4,
 "nbformat_minor": 2
}
